{
 "cells": [
  {
   "cell_type": "markdown",
   "metadata": {},
   "source": [
    "### Question 1"
   ]
  },
  {
   "cell_type": "code",
   "execution_count": null,
   "metadata": {},
   "outputs": [],
   "source": [
    "def alternatingSum(a):\n",
    "    if not a:  # If the list is empty\n",
    "        return 0\n",
    "    \n",
    "    result = a[0]  # Start with the first element\n",
    "    sign = 1  # Sign starts positive\n",
    "    \n",
    "    for num in a[1:]:\n",
    "        result += sign * num\n",
    "        sign *= -1  # Flip the sign\n",
    "    \n",
    "    return result\n",
    "\n",
    "# Test cases\n",
    "print(alternatingSum([5, 3, 8, 4])) \n",
    "print(alternatingSum([])) "
   ]
  },
  {
   "cell_type": "markdown",
   "metadata": {},
   "source": [
    "### Question 2"
   ]
  },
  {
   "cell_type": "code",
   "execution_count": 2,
   "metadata": {},
   "outputs": [
    {
     "name": "stdout",
     "output_type": "stream",
     "text": [
      "4.5\n",
      "4\n",
      "None\n"
     ]
    }
   ],
   "source": [
    "def median(a):\n",
    "    if not a:  # If the list is empty\n",
    "        return None\n",
    "    \n",
    "    sorted_a = sorted(a)\n",
    "    n = len(sorted_a)\n",
    "    \n",
    "    if n % 2 == 0:  # If the length of the list is even\n",
    "        mid = n // 2\n",
    "        return (sorted_a[mid - 1] + sorted_a[mid]) / 2\n",
    "    else:  # If the length of the list is odd\n",
    "        return sorted_a[n // 2]\n",
    "\n",
    "# Test cases\n",
    "print(median([5, 3, 8, 4]))  \n",
    "print(median([5, 3, 8, 4, 1]))  \n",
    "print(median([]))"
   ]
  },
  {
   "cell_type": "markdown",
   "metadata": {},
   "source": [
    "### Question 3"
   ]
  },
  {
   "cell_type": "code",
   "execution_count": 4,
   "metadata": {},
   "outputs": [
    {
     "name": "stdout",
     "output_type": "stream",
     "text": [
      "1\n",
      "0\n",
      "-1\n"
     ]
    }
   ],
   "source": [
    "def smallestDifference(a):\n",
    "    if not a:  # If the list is empty\n",
    "        return -1\n",
    "    \n",
    "    a.sort()  # Sort the list\n",
    "    \n",
    "    min_diff = float('inf')  # Initialize min_diff to positive infinity\n",
    "    \n",
    "    for i in range(1, len(a)):\n",
    "        diff = abs(a[i] - a[i - 1])\n",
    "        if diff < min_diff:\n",
    "            min_diff = diff\n",
    "    \n",
    "    return min_diff\n",
    "\n",
    "# Test cases\n",
    "print(smallestDifference([5, 3, 8, 4])) \n",
    "print(smallestDifference([5, 3, 8, 4, 4])) \n",
    "print(smallestDifference([]))"
   ]
  },
  {
   "cell_type": "markdown",
   "metadata": {},
   "source": [
    "### Question 4"
   ]
  },
  {
   "cell_type": "code",
   "execution_count": 5,
   "metadata": {},
   "outputs": [
    {
     "name": "stdout",
     "output_type": "stream",
     "text": [
      "[1, 2, 3, 4]\n"
     ]
    }
   ],
   "source": [
    "def nondestructiveRemoveRepeats(L):\n",
    "    if not L:  # If the list is empty\n",
    "        return []\n",
    "    \n",
    "    unique_elements = []\n",
    "    \n",
    "    for item in L:\n",
    "        if item not in unique_elements:\n",
    "            unique_elements.append(item)\n",
    "    \n",
    "    return unique_elements\n",
    "\n",
    "# Test case\n",
    "print(nondestructiveRemoveRepeats([1, 2, 3, 2, 4, 3]))"
   ]
  },
  {
   "cell_type": "markdown",
   "metadata": {},
   "source": [
    "### Question 5"
   ]
  },
  {
   "cell_type": "code",
   "execution_count": 6,
   "metadata": {},
   "outputs": [
    {
     "name": "stdout",
     "output_type": "stream",
     "text": [
      "[1, 2, 4, 3]\n"
     ]
    }
   ],
   "source": [
    "def destructiveRemoveRepeats(L):\n",
    "    if not L:  # If the list is empty\n",
    "        return\n",
    "    \n",
    "    index = 0\n",
    "    while index < len(L):\n",
    "        item = L[index]\n",
    "        if L.count(item) > 1:\n",
    "            L.remove(item)\n",
    "        else:\n",
    "            index += 1\n",
    "\n",
    "# Test case\n",
    "L = [1, 2, 3, 2, 4, 3]\n",
    "destructiveRemoveRepeats(L)\n",
    "print(L) "
   ]
  },
  {
   "cell_type": "markdown",
   "metadata": {},
   "source": [
    "### Question 7"
   ]
  },
  {
   "cell_type": "code",
   "execution_count": 7,
   "metadata": {},
   "outputs": [
    {
     "name": "stdout",
     "output_type": "stream",
     "text": [
      "True\n",
      "True\n",
      "False\n",
      "True\n"
     ]
    }
   ],
   "source": [
    "def isSorted(a):\n",
    "    if not a:  # If the list is empty, it is considered sorted\n",
    "        return True\n",
    "    \n",
    "    increasing = decreasing = True\n",
    "    \n",
    "    for i in range(1, len(a)):\n",
    "        if a[i] < a[i - 1]:\n",
    "            increasing = False\n",
    "        if a[i] > a[i - 1]:\n",
    "            decreasing = False\n",
    "            \n",
    "    return increasing or decreasing\n",
    "\n",
    "# Test cases\n",
    "print(isSorted([1, 2, 3, 4, 5])) \n",
    "print(isSorted([5, 4, 3, 2, 1])) \n",
    "print(isSorted([1, 3, 2, 4, 5]))  \n",
    "print(isSorted([]))"
   ]
  },
  {
   "cell_type": "markdown",
   "metadata": {},
   "source": [
    "### Question 8"
   ]
  },
  {
   "cell_type": "code",
   "execution_count": 8,
   "metadata": {},
   "outputs": [
    {
     "name": "stdout",
     "output_type": "stream",
     "text": [
      "[(2, 1), (3, 2), (1, 3)]\n"
     ]
    }
   ],
   "source": [
    "def lookAndSay(a):\n",
    "    if not a:  # If the list is empty, return an empty list\n",
    "        return []\n",
    "    \n",
    "    result = []  # Initialize the result list\n",
    "    count = 1    # Initialize the count of consecutive elements\n",
    "    \n",
    "    for i in range(1, len(a)):\n",
    "        if a[i] == a[i - 1]:  # If the current element is the same as the previous one\n",
    "            count += 1\n",
    "        else:\n",
    "            result.append((count, a[i - 1]))  # Append the (count, value) pair\n",
    "            count = 1  # Reset the count for the new element\n",
    "    \n",
    "    # Append the (count, value) pair for the last element\n",
    "    result.append((count, a[-1]))\n",
    "    \n",
    "    return result\n",
    "\n",
    "# Test case\n",
    "print(lookAndSay([1, 1, 2, 2, 2, 3])) "
   ]
  },
  {
   "cell_type": "markdown",
   "metadata": {},
   "source": [
    "### Question 9"
   ]
  },
  {
   "cell_type": "code",
   "execution_count": 9,
   "metadata": {},
   "outputs": [
    {
     "name": "stdout",
     "output_type": "stream",
     "text": [
      "[1, 1, 2, 2, 2, 3]\n"
     ]
    }
   ],
   "source": [
    "def inverseLookAndSay(a):\n",
    "    if not a:  # If the list is empty, return an empty list\n",
    "        return []\n",
    "\n",
    "    result = []  # Initialize the result list\n",
    "\n",
    "    for count, value in a:\n",
    "        result.extend([value] * count)  # Repeat the value 'count' times and add it to the result list\n",
    "\n",
    "    return result\n",
    "\n",
    "# Test case\n",
    "print(inverseLookAndSay([(2, 1), (3, 2), (1, 3)])) "
   ]
  },
  {
   "cell_type": "markdown",
   "metadata": {},
   "source": [
    "### Question 10"
   ]
  },
  {
   "cell_type": "code",
   "execution_count": 10,
   "metadata": {},
   "outputs": [
    {
     "name": "stdout",
     "output_type": "stream",
     "text": [
      "[8, 10, 12, 15]\n"
     ]
    }
   ],
   "source": [
    "def multiplyPolynomials(p1, p2):\n",
    "    # Initialize the result list with zeros\n",
    "    result = [0] * (len(p1) + len(p2) - 1)\n",
    "\n",
    "    # Perform polynomial multiplication\n",
    "    for i in range(len(p1)):\n",
    "        for j in range(len(p2)):\n",
    "            result[i + j] += p1[i] * p2[j]\n",
    "\n",
    "    return result\n",
    "\n",
    "# Test case\n",
    "print(multiplyPolynomials([2, 0, 3], [4, 5]))"
   ]
  },
  {
   "cell_type": "markdown",
   "metadata": {},
   "source": [
    "### Question 11"
   ]
  },
  {
   "cell_type": "code",
   "execution_count": 11,
   "metadata": {},
   "outputs": [
    {
     "name": "stdout",
     "output_type": "stream",
     "text": [
      "9\n",
      "8\n",
      "7\n",
      "0\n"
     ]
    }
   ],
   "source": [
    "def calculateScore(word, dictionary, letterScores):\n",
    "    word_score = 0\n",
    "    \n",
    "    # Calculate the score for the word\n",
    "    for letter in word:\n",
    "        letter_index = ord(letter) - ord('a')  # Convert letter to index in letterScores\n",
    "        if 0 <= letter_index < 26:  # Ensure it's a valid lowercase letter\n",
    "            word_score += letterScores[letter_index]\n",
    "    \n",
    "    # Check if the word is in the dictionary\n",
    "    if word in dictionary:\n",
    "        return word_score\n",
    "    else:\n",
    "        return 0\n",
    "\n",
    "# Test cases\n",
    "dictionary = ['apple', 'banana', 'orange']\n",
    "letterScores = [1, 3, 3, 2, 1, 4, 2, 4, 1, 8, 5, 1, 3, 1, 1, 3, 10, 1, 1, 1, 1, 4, 4, 8, 4, 10]\n",
    "\n",
    "print(calculateScore('apple', dictionary, letterScores))  \n",
    "print(calculateScore('banana', dictionary, letterScores))  \n",
    "print(calculateScore('orange', dictionary, letterScores))  \n",
    "print(calculateScore('kiwi', dictionary, letterScores))"
   ]
  },
  {
   "cell_type": "markdown",
   "metadata": {},
   "source": [
    "### Question 12"
   ]
  },
  {
   "cell_type": "code",
   "execution_count": 12,
   "metadata": {},
   "outputs": [
    {
     "name": "stdout",
     "output_type": "stream",
     "text": [
      "(1.642857142857143, 1.4999999999999991, 0.997176464952738)\n"
     ]
    }
   ],
   "source": [
    "import numpy as np\n",
    "\n",
    "def linearRegression(points):\n",
    "    # Extract x and y coordinates from the given points\n",
    "    x = [point[0] for point in points]\n",
    "    y = [point[1] for point in points]\n",
    "    \n",
    "    # Perform linear regression\n",
    "    coefficients = np.polyfit(x, y, 1)\n",
    "    \n",
    "    # Calculate the correlation coefficient\n",
    "    correlation_matrix = np.corrcoef(x, y)\n",
    "    correlation_coefficient = correlation_matrix[0, 1]\n",
    "    \n",
    "    return coefficients[0], coefficients[1], abs(correlation_coefficient)\n",
    "\n",
    "# Test case\n",
    "result = linearRegression([(1, 3), (2, 5), (4, 8)])\n",
    "print(result) "
   ]
  },
  {
   "cell_type": "markdown",
   "metadata": {},
   "source": [
    "### Question 13"
   ]
  },
  {
   "cell_type": "code",
   "execution_count": 13,
   "metadata": {},
   "outputs": [
    {
     "name": "stdout",
     "output_type": "stream",
     "text": [
      "16\n"
     ]
    }
   ],
   "source": [
    "def runSimpleProgram(program, args):\n",
    "    instructions = program.split()  # Split the program into instructions\n",
    "    \n",
    "    variables = {}  # Dictionary to store variables\n",
    "    \n",
    "    for instruction in instructions:\n",
    "        operation, *operands = instruction.split(':')  # Split instruction into operation and operands\n",
    "        \n",
    "        if operation == 'assign':\n",
    "            variable, value = operands\n",
    "            variables[variable] = int(value)\n",
    "        elif operation == 'add':\n",
    "            variable, value = operands\n",
    "            variables[variable] += int(value)\n",
    "        elif operation == 'subtract':\n",
    "            variable, value = operands\n",
    "            variables[variable] -= int(value)\n",
    "        elif operation == 'multiply':\n",
    "            variable, value = operands\n",
    "            variables[variable] *= int(value)\n",
    "        elif operation == 'divide':\n",
    "            variable, value = operands\n",
    "            variables[variable] //= int(value)\n",
    "        elif operation == 'output':\n",
    "            return variables[operands[0]]  # Return the value of the specified variable\n",
    "\n",
    "# Test case\n",
    "program = \"assign:x:3 add:x:5 multiply:x:2 output:x\"\n",
    "result = runSimpleProgram(program, {})\n",
    "print(result) "
   ]
  },
  {
   "cell_type": "code",
   "execution_count": null,
   "metadata": {},
   "outputs": [],
   "source": []
  }
 ],
 "metadata": {
  "kernelspec": {
   "display_name": "Python 3",
   "language": "python",
   "name": "python3"
  },
  "language_info": {
   "codemirror_mode": {
    "name": "ipython",
    "version": 3
   },
   "file_extension": ".py",
   "mimetype": "text/x-python",
   "name": "python",
   "nbconvert_exporter": "python",
   "pygments_lexer": "ipython3",
   "version": "3.8.3"
  }
 },
 "nbformat": 4,
 "nbformat_minor": 5
}
