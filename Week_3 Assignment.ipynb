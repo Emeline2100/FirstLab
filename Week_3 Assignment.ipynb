{
 "cells": [
  {
   "cell_type": "markdown",
   "metadata": {},
   "source": [
    "### Question 1"
   ]
  },
  {
   "cell_type": "code",
   "execution_count": 4,
   "metadata": {},
   "outputs": [
    {
     "name": "stdout",
     "output_type": "stream",
     "text": [
      "cdefab\n",
      "efabcd\n"
     ]
    }
   ],
   "source": [
    "def rotateString(s, k):\n",
    "    if k >= 0:\n",
    "        # Rotate k places to the left\n",
    "        return s[k % len(s):] + s[:k % len(s)]\n",
    "    else:\n",
    "        # Rotate |k| places to the right\n",
    "        return s[k % len(s):] + s[:k % len(s)]\n",
    "\n",
    "# Test cases\n",
    "print(rotateString(\"abcdef\", 2))  \n",
    "print(rotateString(\"abcdef\", -2))"
   ]
  },
  {
   "cell_type": "markdown",
   "metadata": {},
   "source": [
    "### Question 2"
   ]
  },
  {
   "cell_type": "code",
   "execution_count": 5,
   "metadata": {},
   "outputs": [
    {
     "name": "stdout",
     "output_type": "stream",
     "text": [
      "Khoor, Zruog!\n",
      "Hello, World!\n"
     ]
    }
   ],
   "source": [
    "def applyCaesarCipher(message, shift):\n",
    "    shifted_message = \"\"\n",
    "\n",
    "    for char in message:\n",
    "        if char.isalpha():  # Check if the character is a letter\n",
    "            if char.islower():  # Check if the character is lowercase\n",
    "                shifted_char = chr(((ord(char) - ord('a') + shift) % 26) + ord('a'))\n",
    "            else:  # Character is uppercase\n",
    "                shifted_char = chr(((ord(char) - ord('A') + shift) % 26) + ord('A'))\n",
    "        else:\n",
    "            shifted_char = char  # Non-letter characters remain unchanged\n",
    "        shifted_message += shifted_char\n",
    "\n",
    "    return shifted_message\n",
    "\n",
    "# Test cases\n",
    "print(applyCaesarCipher(\"Hello, World!\", 3))  \n",
    "print(applyCaesarCipher(\"Khoor, Zruog!\", -3))"
   ]
  },
  {
   "cell_type": "markdown",
   "metadata": {},
   "source": [
    "### Question 3"
   ]
  },
  {
   "cell_type": "code",
   "execution_count": 8,
   "metadata": {},
   "outputs": [
    {
     "name": "stdout",
     "output_type": "stream",
     "text": [
      "1000\n",
      "None\n"
     ]
    }
   ],
   "source": [
    "import re\n",
    "\n",
    "def largestNumber(text):\n",
    "    numbers = re.findall(r'\\b\\d+\\b', text)  # Find all integers in the text\n",
    "    if numbers:\n",
    "        return max(map(int, numbers))  # Return the largest integer\n",
    "    else:\n",
    "        return None\n",
    "\n",
    "# Test cases\n",
    "print(largestNumber(\"The largest number is 42, but there's also 1000 and 5.\"))  \n",
    "print(largestNumber(\"No numbers here.\"))   "
   ]
  },
  {
   "cell_type": "markdown",
   "metadata": {},
   "source": [
    "### Question 4"
   ]
  },
  {
   "cell_type": "code",
   "execution_count": 9,
   "metadata": {},
   "outputs": [
    {
     "name": "stdout",
     "output_type": "stream",
     "text": [
      "Alice\n"
     ]
    }
   ],
   "source": [
    "def topScorer(data):\n",
    "    if not data:\n",
    "        return None\n",
    "\n",
    "    scores = {}\n",
    "    \n",
    "    # Parse the data and calculate total scores for each player\n",
    "    for line in data.strip().split('\\n'):\n",
    "        player, *player_scores = line.split(',')\n",
    "        total_score = sum(map(int, player_scores))\n",
    "        scores[player] = scores.get(player, 0) + total_score\n",
    "    \n",
    "    # Find the maximum score\n",
    "    max_score = max(scores.values())\n",
    "    \n",
    "    # Find all players with the maximum score\n",
    "    top_scorers = [player for player, score in scores.items() if score == max_score]\n",
    "    \n",
    "    # Return the result\n",
    "    if len(top_scorers) == 1:\n",
    "        return top_scorers[0]\n",
    "    else:\n",
    "        return ','.join(top_scorers)\n",
    "\n",
    "# Test case\n",
    "data = \"\"\"Alice,10,20,30\n",
    "Bob,15,25,35\n",
    "Alice,5,15,25\"\"\"\n",
    "print(topScorer(data)) "
   ]
  },
  {
   "cell_type": "markdown",
   "metadata": {},
   "source": [
    "### Question 6"
   ]
  },
  {
   "cell_type": "code",
   "execution_count": 10,
   "metadata": {},
   "outputs": [
    {
     "name": "stdout",
     "output_type": "stream",
     "text": [
      "a   b  c\n"
     ]
    }
   ],
   "source": [
    "def collapseWhitespace(s):\n",
    "    collapsed = \"\"\n",
    "    prev_char = None\n",
    "    \n",
    "    for char in s:\n",
    "        if char.isspace():\n",
    "            if prev_char != ' ':\n",
    "                collapsed += ' '\n",
    "        else:\n",
    "            collapsed += char\n",
    "        prev_char = char\n",
    "    \n",
    "    return collapsed.strip()\n",
    "\n",
    "# Test case\n",
    "print(collapseWhitespace(\"a\\t\\t\\tb\\n\\nc\")) "
   ]
  },
  {
   "cell_type": "markdown",
   "metadata": {},
   "source": [
    "### Question 7"
   ]
  },
  {
   "cell_type": "code",
   "execution_count": 11,
   "metadata": {},
   "outputs": [
    {
     "name": "stdout",
     "output_type": "stream",
     "text": [
      "H e l l o\n"
     ]
    }
   ],
   "source": [
    "def patternedMessage(message, pattern):\n",
    "    result = \"\"\n",
    "    message_index = 0\n",
    "\n",
    "    for char in pattern:\n",
    "        if char.isspace():\n",
    "            result += char\n",
    "        else:\n",
    "            if message_index < len(message):\n",
    "                result += message[message_index]\n",
    "                message_index += 1\n",
    "            else:\n",
    "                # If the message ends but the pattern continues,\n",
    "                # start over from the beginning of the message\n",
    "                message_index = 0\n",
    "                result += message[message_index]\n",
    "                message_index += 1\n",
    "\n",
    "    return result\n",
    "\n",
    "# Test case\n",
    "print(patternedMessage(\"Hello World\", \"X X X X X\"))  "
   ]
  },
  {
   "cell_type": "markdown",
   "metadata": {},
   "source": [
    "### Question 9"
   ]
  },
  {
   "cell_type": "code",
   "execution_count": 12,
   "metadata": {},
   "outputs": [
    {
     "name": "stdout",
     "output_type": "stream",
     "text": [
      "4AEKTWTAA TNCy AWDz \n"
     ]
    }
   ],
   "source": [
    "def decodeRightLeftRouteCipher(encoded_text):\n",
    "    # Determine the number of rows required\n",
    "    num_rows = int(len(encoded_text) ** 0.5)\n",
    "    num_columns = num_rows if num_rows * num_rows == len(encoded_text) else num_rows + 1\n",
    "\n",
    "    # Initialize the matrix with spaces\n",
    "    matrix = [[' ' for _ in range(num_columns)] for _ in range(num_rows)]\n",
    "\n",
    "    # Place the encoded characters into the matrix in a zigzag pattern\n",
    "    index = 0\n",
    "    for col in range(num_columns):\n",
    "        if col % 2 == 0:\n",
    "            for row in range(num_rows):\n",
    "                if index < len(encoded_text):\n",
    "                    matrix[row][col] = encoded_text[index]\n",
    "                    index += 1\n",
    "        else:\n",
    "            for row in range(num_rows - 1, -1, -1):\n",
    "                if index < len(encoded_text):\n",
    "                    matrix[row][col] = encoded_text[index]\n",
    "                    index += 1\n",
    "\n",
    "    # Read out the matrix row by row to get the decoded message\n",
    "    decoded_message = ''.join(''.join(row) for row in matrix)\n",
    "    \n",
    "    return decoded_message\n",
    "\n",
    "# Test case\n",
    "print(decodeRightLeftRouteCipher(\"4WTAWNTAEACDzyAKT\"))"
   ]
  },
  {
   "cell_type": "markdown",
   "metadata": {},
   "source": [
    "### Question 10"
   ]
  },
  {
   "cell_type": "code",
   "execution_count": 13,
   "metadata": {},
   "outputs": [],
   "source": [
    "def drawFlagOfTheEU(canvas, x0, y0, x1, y1):\n",
    "    # Draw the background of the flag (blue)\n",
    "    canvas.create_rectangle(x0, y0, x1, y1, fill=\"#003399\", outline=\"\")\n",
    "\n",
    "    # Calculate the dimensions for the emblem and stars\n",
    "    emblem_radius = (x1 - x0) / 5\n",
    "    star_radius = emblem_radius / 2\n",
    "    emblem_center_x = (x0 + x1) / 2\n",
    "    emblem_center_y = (y0 + y1) / 2\n",
    "\n",
    "    # Draw the emblem (circle)\n",
    "    canvas.create_oval(emblem_center_x - emblem_radius, emblem_center_y - emblem_radius,\n",
    "                       emblem_center_x + emblem_radius, emblem_center_y + emblem_radius,\n",
    "                       fill=\"yellow\", outline=\"\")\n",
    "\n",
    "    # Draw the twelve stars (circles)\n",
    "    for i in range(12):\n",
    "        angle = i * (360 / 12)\n",
    "        star_center_x = emblem_center_x + emblem_radius * 0.9 * math.cos(math.radians(angle))\n",
    "        star_center_y = emblem_center_y + emblem_radius * 0.9 * math.sin(math.radians(angle))\n",
    "        canvas.create_oval(star_center_x - star_radius, star_center_y - star_radius,\n",
    "                           star_center_x + star_radius, star_center_y + star_radius,\n",
    "                           fill=\"yellow\", outline=\"\")\n",
    "\n",
    "    # Draw the label \"European Union\"\n",
    "    label_center_x = (x0 + x1) / 2\n",
    "    label_center_y = y0 - (y1 - y0) / 10\n",
    "    canvas.create_text(label_center_x, label_center_y, text=\"European Union\", font=(\"Arial\", 12, \"bold\"))\n"
   ]
  },
  {
   "cell_type": "code",
   "execution_count": null,
   "metadata": {},
   "outputs": [],
   "source": []
  }
 ],
 "metadata": {
  "kernelspec": {
   "display_name": "Python 3",
   "language": "python",
   "name": "python3"
  },
  "language_info": {
   "codemirror_mode": {
    "name": "ipython",
    "version": 3
   },
   "file_extension": ".py",
   "mimetype": "text/x-python",
   "name": "python",
   "nbconvert_exporter": "python",
   "pygments_lexer": "ipython3",
   "version": "3.8.3"
  }
 },
 "nbformat": 4,
 "nbformat_minor": 5
}
