{
 "cells": [
  {
   "cell_type": "code",
   "execution_count": 1,
   "id": "aa4b056f",
   "metadata": {},
   "outputs": [
    {
     "name": "stdout",
     "output_type": "stream",
     "text": [
      "5\n",
      "0\n",
      "3\n"
     ]
    }
   ],
   "source": [
    "def digitCount(n):\n",
    "    # Convert negative number to positive\n",
    "    n = abs(n)\n",
    "    # Initialize count to 0\n",
    "    count = 0\n",
    "    # Loop until n becomes 0\n",
    "    while n != 0:\n",
    "        # Remove the ones digit\n",
    "        n //= 10\n",
    "        # Increment count\n",
    "        count += 1\n",
    "    # Return the count\n",
    "    return count\n",
    "\n",
    "# Test cases\n",
    "print(digitCount(12323))  # Output: 5\n",
    "print(digitCount(0))      # Output: 1\n",
    "print(digitCount(-111))  "
   ]
  },
  {
   "cell_type": "code",
   "execution_count": 3,
   "id": "5e437794",
   "metadata": {},
   "outputs": [
    {
     "name": "stdout",
     "output_type": "stream",
     "text": [
      "False\n",
      "True\n",
      "True\n"
     ]
    }
   ],
   "source": [
    "def hasConsecutiveDigits(n):\n",
    "    # Convert negative number to positive\n",
    "    n = abs(n)\n",
    "    # Initialize previous_digit to None\n",
    "    previous_digit = None\n",
    "    # Iterate through each digit in the number\n",
    "    while n > 0:\n",
    "        # Extract the ones digit\n",
    "        current_digit = n % 10\n",
    "        # If previous_digit is not None and equal to current_digit\n",
    "        if previous_digit is not None and previous_digit == current_digit:\n",
    "            return True\n",
    "        # Update previous_digit to current_digit\n",
    "        previous_digit = current_digit\n",
    "        # Remove the ones digit\n",
    "        n //= 10\n",
    "    # No consecutive digits found, return False\n",
    "    return False\n",
    "\n",
    "# Test cases\n",
    "print(hasConsecutiveDigits(12323))  # Output: False\n",
    "print(hasConsecutiveDigits(1223))   # Output: True\n",
    "print(hasConsecutiveDigits(-111))   # Output: True"
   ]
  },
  {
   "cell_type": "code",
   "execution_count": 7,
   "id": "4fbb4dd1",
   "metadata": {},
   "outputs": [
    {
     "name": "stdout",
     "output_type": "stream",
     "text": [
      "2\n",
      "11\n",
      "29\n"
     ]
    }
   ],
   "source": [
    "def is_prime(num):\n",
    "    if num <= 1:\n",
    "        return False\n",
    "    if num == 2:\n",
    "        return True\n",
    "    if num % 2 == 0:\n",
    "        return False\n",
    "    for i in range(3, int(num**0.5) + 1, 2):\n",
    "        if num % i == 0:\n",
    "            return False\n",
    "    return True\n",
    "\n",
    "def sum_of_digits_prime(num):\n",
    "    digit_sum = sum(int(digit) for digit in str(num))\n",
    "    return is_prime(digit_sum)\n",
    "\n",
    "def nthAdditivePrime(n):\n",
    "    count = 0\n",
    "    num = 2\n",
    "    while True:\n",
    "        if is_prime(num) and sum_of_digits_prime(num):\n",
    "            count += 1\n",
    "            if count == n:\n",
    "                return num\n",
    "        num += 1\n",
    "\n",
    "# Test cases\n",
    "print(nthAdditivePrime(1))  # Output: 11\n",
    "print(nthAdditivePrime(5))  # Output: 113\n",
    "print(nthAdditivePrime(7))  # Output: 563\n"
   ]
  },
  {
   "cell_type": "code",
   "execution_count": 9,
   "id": "499182bb",
   "metadata": {},
   "outputs": [
    {
     "name": "stdout",
     "output_type": "stream",
     "text": [
      "3\n",
      "2\n",
      "1\n"
     ]
    }
   ],
   "source": [
    "def mostFrequentDigit(n):\n",
    "    # Convert negative number to positive\n",
    "    n = abs(n)\n",
    "    # Initialize a dictionary to count occurrences of each digit\n",
    "    digit_counts = {digit: 0 for digit in range(10)}\n",
    "    # Iterate through each digit in the number\n",
    "    while n > 0:\n",
    "        # Extract the ones digit\n",
    "        digit = n % 10\n",
    "        # Increment the count for the current digit\n",
    "        digit_counts[digit] += 1\n",
    "        # Remove the ones digit\n",
    "        n //= 10\n",
    "    # Find the maximum count and the digit(s) with that count\n",
    "    max_count = max(digit_counts.values())\n",
    "    most_frequent_digits = [digit for digit, count in digit_counts.items() if count == max_count]\n",
    "    # Return the smallest digit with the maximum count\n",
    "    return min(most_frequent_digits)\n",
    "\n",
    "# Test cases\n",
    "print(mostFrequentDigit(123323))  # Output: 3\n",
    "print(mostFrequentDigit(1223))   # Output: 2\n",
    "print(mostFrequentDigit(-111))   # Output: 1"
   ]
  },
  {
   "cell_type": "code",
   "execution_count": 11,
   "id": "b5ecb632",
   "metadata": {},
   "outputs": [
    {
     "name": "stdout",
     "output_type": "stream",
     "text": [
      "True\n",
      "True\n",
      "False\n",
      "False\n",
      "False\n"
     ]
    }
   ],
   "source": [
    "def isRotation(x, y):\n",
    "    # Convert integers to strings\n",
    "    str_x = str(x)\n",
    "    str_y = str(y)\n",
    "    # Check if the lengths are different\n",
    "    if len(str_x) != len(str_y):\n",
    "        return False\n",
    "    # Double the string y to handle rotations\n",
    "    str_y = str_y * 2\n",
    "    # Check if x is a substring of y*2\n",
    "    if str_x in str_y:\n",
    "        return True\n",
    "    return False\n",
    "\n",
    "# Test cases\n",
    "print(isRotation(3412, 1234))  # Output: True\n",
    "print(isRotation(1234, 3412))  # Output: True\n",
    "print(isRotation(1234, 5678))  # Output: False\n",
    "print(isRotation(1234, 4321))  # Output: False\n",
    "print(isRotation(1234, 123))   # Output: False"
   ]
  },
  {
   "cell_type": "code",
   "execution_count": 12,
   "id": "553fa55d",
   "metadata": {},
   "outputs": [
    {
     "ename": "SyntaxError",
     "evalue": "Missing parentheses in call to 'print'. Did you mean print(...)? (380826618.py, line 5)",
     "output_type": "error",
     "traceback": [
      "\u001b[1;36m  Cell \u001b[1;32mIn[12], line 5\u001b[1;36m\u001b[0m\n\u001b[1;33m    print f(h,3) # prints 16\u001b[0m\n\u001b[1;37m    ^\u001b[0m\n\u001b[1;31mSyntaxError\u001b[0m\u001b[1;31m:\u001b[0m Missing parentheses in call to 'print'. Did you mean print(...)?\n"
     ]
    }
   ],
   "source": [
    "def h(n):\n",
    "    return n+5\n",
    "def f(g, x):\n",
    "    return 2*g(x)\n",
    "print f(h,3) # prints 16\n",
    "print \"use bisection to approximate sqrt(2):\"\n",
    "def f1(x): return x*x - 2 # root at x=sqrt(2)\n",
    "x = findZeroWithBisection(f1, 0, 2, 0.000000001)\n",
    "print \" x =\", x                # prints  x = 1.41421356192\n",
    "print \" check: x**2 =\", (x*x)  # prints  check: x**2 = 1.99999999871 (really close!)\n",
    "print \"use bisection to approximate phi (the golden ratio):\"\n",
    "def f2(x): return x**2 - (x + 1) # root at x=phi\n",
    "x = findZeroWithBisection(f2, 0, 2, 0.000000001)\n",
    "print \" x =\", x                  # prints x = 1.61803398887\n",
    "phi = (1 + 5**0.5)/2             # the actual value (to within Python's floating point accuracy)\n",
    "print \" check: x/phi =\", (x/phi) # prints check: check: x/phi = 1.00000000007 (nice!)\n",
    "print \"use bisection to approximate x where x**5 == 2**x\"\n",
    "def f3(x): return x**5 - 2**x # f(1)<0, f(2)>0\n",
    "x = findZeroWithBisection(f3, 1, 2, 0.000000001)\n",
    "print \" x =\", x                              # prints x = 1.17727855081\n",
    "print \" check: x**5 - 2**x =\", (x**5 - 2**x) # prints check: x**5 - 2**x = 3.63570817896e-09 (great!)"
   ]
  },
  {
   "cell_type": "code",
   "execution_count": null,
   "id": "bc9eb0cf",
   "metadata": {},
   "outputs": [],
   "source": [
    "def findZeroWithBisection(f, x0, x1, epsilon):\n",
    "    \"\"\"\n",
    "    Finds a zero of the function f(x) within the interval [x0, x1] using the bisection method.\n",
    "\n",
    "    Parameters:\n",
    "        f: The function for which to find the zero.\n",
    "        x0, x1: Initial interval bounds.\n",
    "        epsilon: Tolerance level for the zero.\n",
    "\n",
    "    Returns:\n",
    "        The estimated zero of the function within the given tolerance.\n",
    "    \"\"\"\n",
    "    if f(x0) * f(x1) > 0:\n",
    "        raise ValueError(\"The function has the same sign at both interval endpoints.\")\n",
    "\n",
    "    while abs(x1 - x0) > epsilon:\n",
    "        x_mid = (x0 + x1) / 2\n",
    "        if f(x_mid) == 0:\n",
    "            return x_mid\n",
    "        elif f(x0) * f(x_mid) < 0:\n",
    "            x1 = x_mid\n",
    "        else:\n",
    "            x0 = x_mid\n",
    "\n",
    "    return (x0 + x1) / 2"
   ]
  }
 ],
 "metadata": {
  "kernelspec": {
   "display_name": "Python 3 (ipykernel)",
   "language": "python",
   "name": "python3"
  },
  "language_info": {
   "codemirror_mode": {
    "name": "ipython",
    "version": 3
   },
   "file_extension": ".py",
   "mimetype": "text/x-python",
   "name": "python",
   "nbconvert_exporter": "python",
   "pygments_lexer": "ipython3",
   "version": "3.11.5"
  }
 },
 "nbformat": 4,
 "nbformat_minor": 5
}
