{
 "cells": [
  {
   "cell_type": "markdown",
   "metadata": {},
   "source": [
    "## Part A - All"
   ]
  },
  {
   "cell_type": "markdown",
   "metadata": {},
   "source": [
    "### Question 1"
   ]
  },
  {
   "cell_type": "code",
   "execution_count": 2,
   "metadata": {},
   "outputs": [
    {
     "name": "stdout",
     "output_type": "stream",
     "text": [
      "5.0\n",
      "10.0\n"
     ]
    }
   ],
   "source": [
    "import math\n",
    "\n",
    "def distance(x1, y1, x2, y2):\n",
    "    result = math.sqrt((x2 - x1)**2 + (y2 - y1)**2)\n",
    "    return result\n",
    "\n",
    "# Test the function\n",
    "print(distance(0, 0, 3, 4))\n",
    "print(distance(0, 0, 6, 8))"
   ]
  },
  {
   "cell_type": "markdown",
   "metadata": {},
   "source": [
    "### Question 2"
   ]
  },
  {
   "cell_type": "code",
   "execution_count": 3,
   "metadata": {},
   "outputs": [
    {
     "name": "stdout",
     "output_type": "stream",
     "text": [
      "True\n",
      "False\n"
     ]
    }
   ],
   "source": [
    "import math\n",
    "\n",
    "def distance(x1, y1, x2, y2):\n",
    "    result = math.sqrt((x2 - x1)**2 + (y2 - y1)**2)\n",
    "    return result\n",
    "def circlesIntersect(x1, y1, r1, x2, y2, r2):\n",
    "    dist_centers = distance(x1, y1, x2, y2)\n",
    "    sum_radii = r1 + r2\n",
    "    result =  dist_centers <= sum_radii\n",
    "    return result\n",
    "\n",
    "# Test the function\n",
    "print(circlesIntersect(0, 0, 3, 4, 0, 3)) \n",
    "print(circlesIntersect(0, 0, 3, 8, 0, 3))  "
   ]
  },
  {
   "cell_type": "markdown",
   "metadata": {},
   "source": [
    "### Question 3"
   ]
  },
  {
   "cell_type": "code",
   "execution_count": 4,
   "metadata": {},
   "outputs": [
    {
     "name": "stdout",
     "output_type": "stream",
     "text": [
      "2\n",
      "6\n",
      "3\n"
     ]
    }
   ],
   "source": [
    "def getInRange(x, bound1, bound2):\n",
    "\n",
    "    lower_bound = min(bound1, bound2)\n",
    "    upper_bound = max(bound1, bound2)\n",
    "    \n",
    "    \n",
    "    if x < lower_bound:\n",
    "        return lower_bound\n",
    "    elif x > upper_bound:\n",
    "        return upper_bound\n",
    "    else:\n",
    "        return x\n",
    "\n",
    "# Test cases\n",
    "print(getInRange(1, 2, 3))\n",
    "print(getInRange(8, 5, 6)) \n",
    "print(getInRange(3, 2, 4)) "
   ]
  },
  {
   "cell_type": "markdown",
   "metadata": {},
   "source": [
    "### Question 4"
   ]
  },
  {
   "cell_type": "code",
   "execution_count": 5,
   "metadata": {},
   "outputs": [
    {
     "name": "stdout",
     "output_type": "stream",
     "text": [
      "2\n",
      "3\n"
     ]
    }
   ],
   "source": [
    "import math\n",
    "\n",
    "def eggCartons(eggs):\n",
    "    return math.ceil(eggs / 12)\n",
    "\n",
    "# Test cases\n",
    "print(eggCartons(24))\n",
    "print(eggCartons(25)) "
   ]
  },
  {
   "cell_type": "markdown",
   "metadata": {},
   "source": [
    "### Question 5"
   ]
  },
  {
   "cell_type": "code",
   "execution_count": 6,
   "metadata": {},
   "outputs": [
    {
     "name": "stdout",
     "output_type": "stream",
     "text": [
      "1\n",
      "3\n"
     ]
    }
   ],
   "source": [
    "import math\n",
    "\n",
    "def pascalsTriangleValue(row, col):\n",
    "    if row < 0 or col < 0 or col > row:\n",
    "        return None\n",
    "    \n",
    "    return math.factorial(row) // (math.factorial(col) * math.factorial(row - col))\n",
    "\n",
    "# Test cases\n",
    "print(pascalsTriangleValue(0, 0))  \n",
    "print(pascalsTriangleValue(3, 1))"
   ]
  },
  {
   "cell_type": "markdown",
   "metadata": {},
   "source": [
    "### Question 6"
   ]
  },
  {
   "cell_type": "code",
   "execution_count": 8,
   "metadata": {},
   "outputs": [
    {
     "name": "stdout",
     "output_type": "stream",
     "text": [
      "9\n",
      "8\n",
      "7\n",
      "0\n",
      "9\n"
     ]
    }
   ],
   "source": [
    "def getKthDigit(n, k):\n",
    "\n",
    "    n = abs(n)\n",
    "    \n",
    "    for _ in range(k):\n",
    "        n //= 10\n",
    "    \n",
    "    return n % 10\n",
    "\n",
    "# Test cases\n",
    "print(getKthDigit(789, 0))   \n",
    "print(getKthDigit(789, 1))   \n",
    "print(getKthDigit(789, 2))  \n",
    "print(getKthDigit(789, 3))  \n",
    "print(getKthDigit(-789, 0)) \n"
   ]
  },
  {
   "cell_type": "markdown",
   "metadata": {},
   "source": [
    "### Question 7"
   ]
  },
  {
   "cell_type": "code",
   "execution_count": 9,
   "metadata": {},
   "outputs": [
    {
     "name": "stdout",
     "output_type": "stream",
     "text": [
      "461\n",
      "418\n",
      "168\n",
      "1468\n"
     ]
    }
   ],
   "source": [
    "def setKthDigit(n, k, d):\n",
    "    # Handle negative n by converting it to its absolute value\n",
    "    is_negative = n < 0\n",
    "    n = abs(n)\n",
    "    \n",
    "    # Convert n to a list of digits\n",
    "    digits = [int(x) for x in str(n)]\n",
    "    \n",
    "    # Replace the kth digit with d\n",
    "    if k < len(digits):\n",
    "        digits[-k - 1] = d\n",
    "    else:\n",
    "        digits = [d] + digits\n",
    "    \n",
    "    # Convert the list of digits back to an integer\n",
    "    result = 0\n",
    "    for digit in digits:\n",
    "        result = result * 10 + digit\n",
    "    \n",
    "    # Restore the sign of n if it was negative\n",
    "    return result if not is_negative else -result\n",
    "\n",
    "# Test cases\n",
    "print(setKthDigit(468, 0, 1))  \n",
    "print(setKthDigit(468, 1, 1))  \n",
    "print(setKthDigit(468, 2, 1)) \n",
    "print(setKthDigit(468, 3, 1))  "
   ]
  },
  {
   "cell_type": "markdown",
   "metadata": {},
   "source": [
    "## Part B - 9 to 12"
   ]
  },
  {
   "cell_type": "markdown",
   "metadata": {},
   "source": [
    "### Question 9"
   ]
  },
  {
   "cell_type": "code",
   "execution_count": 10,
   "metadata": {},
   "outputs": [
    {
     "name": "stdout",
     "output_type": "stream",
     "text": [
      "13\n"
     ]
    }
   ],
   "source": [
    "def nearestOdd(n):\n",
    "    int_part = int(n)\n",
    "    frac_part = n - int_part\n",
    "\n",
    "    if frac_part < 0.5:\n",
    "        return int_part if int_part % 2 != 0 else int_part - 1\n",
    "    else:\n",
    "        return int_part + 1 if (int_part + 1) % 2 != 0 else int_part + 2\n",
    "\n",
    "# Test cases\n",
    "print(nearestOdd(13.0)) "
   ]
  },
  {
   "cell_type": "markdown",
   "metadata": {},
   "source": [
    "### Question 10"
   ]
  },
  {
   "cell_type": "code",
   "execution_count": 11,
   "metadata": {},
   "outputs": [
    {
     "name": "stdout",
     "output_type": "stream",
     "text": [
      "120\n"
     ]
    }
   ],
   "source": [
    "def numberOfPoolBalls(rows):\n",
    "    result = (rows * (rows + 1)) // 2\n",
    "    return result\n",
    "\n",
    "# Test the function\n",
    "print(numberOfPoolBalls(15))"
   ]
  },
  {
   "cell_type": "markdown",
   "metadata": {},
   "source": [
    "### Question 11"
   ]
  },
  {
   "cell_type": "code",
   "execution_count": 12,
   "metadata": {},
   "outputs": [
    {
     "name": "stdout",
     "output_type": "stream",
     "text": [
      "3\n",
      "4\n"
     ]
    }
   ],
   "source": [
    "import math\n",
    "\n",
    "def numberOfPoolBallRows(balls):\n",
    "    result =  math.ceil((math.sqrt(8 * balls + 1) - 1) / 2)\n",
    "    return result\n",
    "\n",
    "# Test the function\n",
    "print(numberOfPoolBallRows(6)) \n",
    "print(numberOfPoolBallRows(7))"
   ]
  },
  {
   "cell_type": "markdown",
   "metadata": {},
   "source": [
    "### Question 12"
   ]
  },
  {
   "cell_type": "code",
   "execution_count": 13,
   "metadata": {},
   "outputs": [
    {
     "name": "stdout",
     "output_type": "stream",
     "text": [
      "212078095\n"
     ]
    }
   ],
   "source": [
    "def roundHalfUp(n):\n",
    "    return int(n + 0.5)\n",
    "\n",
    "def colorBlender(rgb1, rgb2, midpoints, n):\n",
    "    # Extracting individual RGB values for rgb1 and rgb2\n",
    "    r1, g1, b1 = rgb1 // 1000000, (rgb1 % 1000000) // 1000, rgb1 % 1000\n",
    "    r2, g2, b2 = rgb2 // 1000000, (rgb2 % 1000000) // 1000, rgb2 % 1000\n",
    "    \n",
    "    # Calculate the step size for each color component\n",
    "    r_step = (r2 - r1) / (midpoints + 1)\n",
    "    g_step = (g2 - g1) / (midpoints + 1)\n",
    "    b_step = (b2 - b1) / (midpoints + 1)\n",
    "    \n",
    "    # Calculate the nth color\n",
    "    if n < 0 or n > midpoints + 1:\n",
    "        return None\n",
    "    else:\n",
    "        r_n = roundHalfUp(r1 + r_step * n)\n",
    "        g_n = roundHalfUp(g1 + g_step * n)\n",
    "        b_n = roundHalfUp(b1 + b_step * n)\n",
    "        return r_n * 1000000 + g_n * 1000 + b_n\n",
    "\n",
    "# Test the function with the provided example\n",
    "print(colorBlender(220020060, 189252201, 3, 1))"
   ]
  }
 ],
 "metadata": {
  "kernelspec": {
   "display_name": "Python 3",
   "language": "python",
   "name": "python3"
  },
  "language_info": {
   "codemirror_mode": {
    "name": "ipython",
    "version": 3
   },
   "file_extension": ".py",
   "mimetype": "text/x-python",
   "name": "python",
   "nbconvert_exporter": "python",
   "pygments_lexer": "ipython3",
   "version": "3.8.3"
  }
 },
 "nbformat": 4,
 "nbformat_minor": 4
}
