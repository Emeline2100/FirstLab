{
 "cells": [
  {
   "cell_type": "markdown",
   "metadata": {},
   "source": [
    "### Question 1(quiz 1 version A)"
   ]
  },
  {
   "cell_type": "code",
   "execution_count": 1,
   "metadata": {},
   "outputs": [],
   "source": [
    "def isSmallFair(n):\n",
    "    # Check if n is an integer\n",
    "    if not isinstance(n, int):\n",
    "        return False\n",
    "    \n",
    "    # Remove leading zeros\n",
    "    n = abs(n)\n",
    "    while n > 0 and n % 10 == 0:\n",
    "        n //= 10\n",
    "    \n",
    "    # Count even and odd digits\n",
    "    evens = 0\n",
    "    odds = 0\n",
    "    while n > 0:\n",
    "        digit = n % 10\n",
    "        if digit % 2 == 0:\n",
    "            evens += 1\n",
    "        else:\n",
    "            odds += 1\n",
    "        n //= 10\n",
    "    \n",
    "    # Check if the number is small fair\n",
    "    return evens == odds == 2\n",
    "\n",
    "# Test cases\n",
    "def testIsSmallFair():\n",
    "    assert(isSmallFair(1001) == True)\n",
    "    assert(isSmallFair(-1083) == True)\n",
    "    assert(isSmallFair(1112) == False)\n",
    "    assert(isSmallFair(83) == False)\n",
    "    assert(isSmallFair('axolotl') == False)\n",
    "\n",
    "testIsSmallFair()\n"
   ]
  },
  {
   "cell_type": "markdown",
   "metadata": {},
   "source": [
    "### Question 2((quiz 1 version B)"
   ]
  },
  {
   "cell_type": "code",
   "execution_count": 2,
   "metadata": {},
   "outputs": [],
   "source": [
    "def isSmallWobble(n):\n",
    "    # Check if n is an integer\n",
    "    if not isinstance(n, int):\n",
    "        return False\n",
    "    \n",
    "    # Remove leading zeros\n",
    "    n = abs(n)\n",
    "    while n > 0 and n % 10 == 0:\n",
    "        n //= 10\n",
    "    \n",
    "    # Count even and odd digits\n",
    "    evens = 0\n",
    "    odds = 0\n",
    "    while n > 0:\n",
    "        digit = n % 10\n",
    "        if digit % 2 == 0:\n",
    "            evens += 1\n",
    "        else:\n",
    "            odds += 1\n",
    "        n //= 10\n",
    "    \n",
    "    # Check if the number is small wobble\n",
    "    return evens == 1 and odds == 3\n",
    "\n",
    "# Test cases\n",
    "def testIsSmallWobble():\n",
    "    assert(isSmallWobble(1121) == True)\n",
    "    assert(isSmallWobble(-1091) == True)\n",
    "    assert(isSmallWobble(1681) == False)\n",
    "    assert(isSmallWobble(83) == False)\n",
    "    assert(isSmallWobble('axolotl') == False)\n",
    "\n",
    "testIsSmallWobble()\n"
   ]
  },
  {
   "cell_type": "markdown",
   "metadata": {},
   "source": [
    "## HW2 - Part A (All)"
   ]
  },
  {
   "cell_type": "markdown",
   "metadata": {},
   "source": [
    "### Question 1"
   ]
  },
  {
   "cell_type": "code",
   "execution_count": 3,
   "metadata": {},
   "outputs": [
    {
     "name": "stdout",
     "output_type": "stream",
     "text": [
      "5\n",
      "1\n",
      "3\n"
     ]
    }
   ],
   "source": [
    "def digitCount(n):\n",
    "    # Handle the case when n is 0 separately\n",
    "    if n == 0:\n",
    "        return 1\n",
    "    \n",
    "    # Take the absolute value to handle negative numbers\n",
    "    n = abs(n)\n",
    "    \n",
    "    # Initialize count\n",
    "    count = 0\n",
    "    \n",
    "    # Loop to remove digits one by one until there are none left\n",
    "    while n > 0:\n",
    "        n //= 10  # Remove the ones digit\n",
    "        count += 1  # Increment the count\n",
    "    \n",
    "    return count\n",
    "\n",
    "# Test cases\n",
    "print(digitCount(12323))  \n",
    "print(digitCount(0))    \n",
    "print(digitCount(-111))   "
   ]
  },
  {
   "cell_type": "markdown",
   "metadata": {},
   "source": [
    "### Question 2"
   ]
  },
  {
   "cell_type": "code",
   "execution_count": 4,
   "metadata": {},
   "outputs": [
    {
     "name": "stdout",
     "output_type": "stream",
     "text": [
      "10\n"
     ]
    }
   ],
   "source": [
    "def gcd(x, y):\n",
    "    # Base case: if y is 0, gcd is x\n",
    "    if y == 0:\n",
    "        return x\n",
    "    \n",
    "    # Otherwise, gcd is gcd of y and remainder of x/y\n",
    "    return gcd(y, x % y)\n",
    "\n",
    "# Test cases\n",
    "print(gcd(270, 250))  \n"
   ]
  },
  {
   "cell_type": "markdown",
   "metadata": {},
   "source": [
    "### Question 3"
   ]
  },
  {
   "cell_type": "code",
   "execution_count": 5,
   "metadata": {},
   "outputs": [
    {
     "name": "stdout",
     "output_type": "stream",
     "text": [
      "False\n",
      "True\n"
     ]
    }
   ],
   "source": [
    "def hasConsecutiveDigits(n):\n",
    "    # Take the absolute value to handle negative numbers\n",
    "    n = abs(n)\n",
    "    \n",
    "    # Initialize previous digit with a value that cannot be a digit (out of range)\n",
    "    prev_digit = -1\n",
    "    \n",
    "    # Loop through each digit of the number\n",
    "    while n > 0:\n",
    "        digit = n % 10  # Extract the rightmost digit\n",
    "        if digit == prev_digit:\n",
    "            return True  # Found consecutive digits\n",
    "        prev_digit = digit\n",
    "        n //= 10  # Move to the next digit\n",
    "        \n",
    "    return False  # No consecutive digits found\n",
    "\n",
    "# Test cases\n",
    "print(hasConsecutiveDigits(12345))  \n",
    "print(hasConsecutiveDigits(112345)) \n"
   ]
  },
  {
   "cell_type": "markdown",
   "metadata": {},
   "source": [
    "### Question 4"
   ]
  },
  {
   "cell_type": "code",
   "execution_count": 6,
   "metadata": {},
   "outputs": [
    {
     "name": "stdout",
     "output_type": "stream",
     "text": [
      "2\n",
      "3\n",
      "5\n"
     ]
    }
   ],
   "source": [
    "def is_prime(num):\n",
    "    if num < 2:\n",
    "        return False\n",
    "    for i in range(2, int(num ** 0.5) + 1):\n",
    "        if num % i == 0:\n",
    "            return False\n",
    "    return True\n",
    "\n",
    "def digit_sum(num):\n",
    "    total = 0\n",
    "    while num > 0:\n",
    "        total += num % 10\n",
    "        num //= 10\n",
    "    return total\n",
    "\n",
    "def nthAdditivePrime(n):\n",
    "    count = 0\n",
    "    num = 2\n",
    "    while True:\n",
    "        if is_prime(num) and is_prime(digit_sum(num)):\n",
    "            count += 1\n",
    "            if count == n:\n",
    "                return num\n",
    "        num += 1\n",
    "\n",
    "# Test cases\n",
    "print(nthAdditivePrime(1))  \n",
    "print(nthAdditivePrime(2))  \n",
    "print(nthAdditivePrime(3))  "
   ]
  },
  {
   "cell_type": "markdown",
   "metadata": {},
   "source": [
    "### Question 5"
   ]
  },
  {
   "cell_type": "code",
   "execution_count": 8,
   "metadata": {},
   "outputs": [
    {
     "name": "stdout",
     "output_type": "stream",
     "text": [
      "3\n",
      "1\n"
     ]
    }
   ],
   "source": [
    "def mostFrequentDigit(n):\n",
    "    # Take the absolute value to handle negative numbers\n",
    "    n = abs(n)\n",
    "    \n",
    "    # Dictionary to store the frequency of each digit\n",
    "    digit_freq = {i: 0 for i in range(10)}\n",
    "    \n",
    "    # Count the frequency of each digit\n",
    "    while n > 0:\n",
    "        digit = n % 10\n",
    "        digit_freq[digit] += 1\n",
    "        n //= 10\n",
    "    \n",
    "    # Find the digit with the highest frequency\n",
    "    max_freq = max(digit_freq.values())\n",
    "    most_frequent_digit = min([digit for digit, freq in digit_freq.items() if freq == max_freq])\n",
    "    \n",
    "    return most_frequent_digit\n",
    "\n",
    "# Test cases\n",
    "print(mostFrequentDigit(123344))  \n",
    "print(mostFrequentDigit(987654321)) "
   ]
  },
  {
   "cell_type": "markdown",
   "metadata": {},
   "source": [
    "### Question 6"
   ]
  },
  {
   "cell_type": "code",
   "execution_count": 9,
   "metadata": {},
   "outputs": [
    {
     "name": "stdout",
     "output_type": "stream",
     "text": [
      "True\n",
      "True\n",
      "False\n"
     ]
    }
   ],
   "source": [
    "def isRotation(x, y):\n",
    "    # Convert integers to strings\n",
    "    x_str = str(x)\n",
    "    y_str = str(y)\n",
    "    \n",
    "    # Check if the length of both numbers is the same\n",
    "    if len(x_str) != len(y_str):\n",
    "        return False\n",
    "    \n",
    "    # Concatenate y_str with itself\n",
    "    y_str_double = y_str + y_str\n",
    "    \n",
    "    # Check if x_str is a substring of y_str_double\n",
    "    if x_str in y_str_double:\n",
    "        return True\n",
    "    else:\n",
    "        return False\n",
    "\n",
    "# Test cases\n",
    "print(isRotation(3412, 1234))  # \n",
    "print(isRotation(1234, 3412))  \n",
    "print(isRotation(1234, 5678)) "
   ]
  },
  {
   "cell_type": "markdown",
   "metadata": {},
   "source": [
    "### Question 7"
   ]
  },
  {
   "cell_type": "code",
   "execution_count": 18,
   "metadata": {},
   "outputs": [],
   "source": [
    "def integral(f, a, b, N):\n",
    "  \"\"\"\n",
    "  This function approximates the definite integral of a function f over the interval [a, b]\n",
    "  using the trapezoidal rule with N trapezoids.\n",
    "\n",
    "  Args:\n",
    "      f: A Python function that takes one float argument x and returns a float.\n",
    "      a: The lower bound of the integration interval (float).\n",
    "      b: The upper bound of the integration interval (float, a <= b).\n",
    "      N: The number of trapezoids to use in the approximation (positive integer).\n",
    "\n",
    "  Returns:\n",
    "      The approximate area under the curve of f(x) between a and b (float).\n",
    "  \"\"\"\n",
    "\n",
    "  # Check for invalid input (N should be positive)\n",
    "  if N <= 0:\n",
    "    raise ValueError(\"N must be a positive integer\")\n",
    "\n",
    "  # Calculate the width of each trapezoid\n",
    "  dx = (b - a) / N\n",
    "\n",
    "  # Initialize the sum for the trapezoid areas\n",
    "  area_sum = 0\n",
    "\n",
    "  # Loop through each trapezoid\n",
    "  for i in range(N):\n",
    "    # Calculate the left and right heights of the trapezoid\n",
    "    x_left = a + i * dx\n",
    "    x_right = x_left + dx\n",
    "    height_left = f(x_left)\n",
    "    height_right = f(x_right)\n",
    "\n",
    "    # Add the area of the current trapezoid to the sum\n",
    "    area_sum += (height_left + height_right) * dx / 2\n",
    "\n",
    "  return area_sum"
   ]
  },
  {
   "cell_type": "markdown",
   "metadata": {},
   "source": [
    "## HW2 - Part B - 9 to 12"
   ]
  },
  {
   "cell_type": "markdown",
   "metadata": {},
   "source": [
    "### Question 9"
   ]
  },
  {
   "cell_type": "code",
   "execution_count": 11,
   "metadata": {},
   "outputs": [
    {
     "name": "stdout",
     "output_type": "stream",
     "text": [
      "Approximate root: 2.0000152587890625\n",
      "Function value at the root: 6.103538908064365e-05\n"
     ]
    }
   ],
   "source": [
    "def findZeroWithBisection(f, x0, x1, epsilon):\n",
    "    # Check if the initial interval has opposite signs\n",
    "    if f(x0) * f(x1) > 0:\n",
    "        raise ValueError(\"The function must have opposite signs at the endpoints of the initial interval.\")\n",
    "\n",
    "    # Initialize variables for storing the current interval\n",
    "    a = x0\n",
    "    b = x1\n",
    "\n",
    "    # Bisection loop\n",
    "    while b - a >= epsilon:\n",
    "        # Calculate the midpoint of the interval\n",
    "        c = (a + b) / 2\n",
    "\n",
    "        # Check if c is already a root or if it's within epsilon of a root\n",
    "        if abs(f(c)) < epsilon:\n",
    "            return c\n",
    "\n",
    "        # Bisect the interval\n",
    "        if f(a) * f(c) < 0:\n",
    "            b = c\n",
    "        else:\n",
    "            a = c\n",
    "\n",
    "    # Return the midpoint of the final interval as the approximate root\n",
    "    return (a + b) / 2\n",
    "\n",
    "# Example usage\n",
    "def f(x):\n",
    "    return x ** 2 - 4  # Example function: f(x) = x^2 - 4\n",
    "\n",
    "x0 = 0  # Initial guess for the root\n",
    "x1 = 3  # Initial guess for the root\n",
    "epsilon = 0.0001  # Desired level of accuracy\n",
    "\n",
    "root = findZeroWithBisection(f, x0, x1, epsilon)\n",
    "print(\"Approximate root:\", root)\n",
    "print(\"Function value at the root:\", f(root))"
   ]
  },
  {
   "cell_type": "markdown",
   "metadata": {},
   "source": [
    "### Question 10"
   ]
  },
  {
   "cell_type": "code",
   "execution_count": 15,
   "metadata": {},
   "outputs": [
    {
     "name": "stdout",
     "output_type": "stream",
     "text": [
      "51\n",
      "3\n"
     ]
    }
   ],
   "source": [
    "def carrylessAdd(x, y):\n",
    "    result = 0\n",
    "    multiplier = 1\n",
    "\n",
    "    while x > 0 or y > 0:\n",
    "        \n",
    "        digit_x = x % 10\n",
    "        digit_y = y % 10\n",
    "\n",
    "        sum_digits = (digit_x + digit_y) % 10\n",
    "\n",
    "        result += sum_digits * multiplier\n",
    "\n",
    "        x //= 10\n",
    "        y //= 10\n",
    "        multiplier *= 10\n",
    "\n",
    "    return result\n",
    "\n",
    "# Test the function\n",
    "print(carrylessAdd(785, 376)) \n",
    "print(carrylessAdd(7, 6)) "
   ]
  },
  {
   "cell_type": "markdown",
   "metadata": {},
   "source": [
    "### Question 11"
   ]
  },
  {
   "cell_type": "code",
   "execution_count": 16,
   "metadata": {},
   "outputs": [
    {
     "name": "stdout",
     "output_type": "stream",
     "text": [
      "4\n",
      "22\n"
     ]
    }
   ],
   "source": [
    "def is_prime(num):\n",
    "    if num < 2:\n",
    "        return False\n",
    "    for i in range(2, int(num ** 0.5) + 1):\n",
    "        if num % i == 0:\n",
    "            return False\n",
    "    return True\n",
    "\n",
    "def digit_sum(num):\n",
    "    total = 0\n",
    "    while num > 0:\n",
    "        total += num % 10\n",
    "        num //= 10\n",
    "    return total\n",
    "\n",
    "def prime_factors(num):\n",
    "    factors = []\n",
    "    divisor = 2\n",
    "    while num > 1:\n",
    "        if num % divisor == 0:\n",
    "            factors.append(divisor)\n",
    "            num //= divisor\n",
    "        else:\n",
    "            divisor += 1\n",
    "    return factors\n",
    "\n",
    "def is_smith_number(num):\n",
    "    # Check if the number is composite\n",
    "    if is_prime(num):\n",
    "        return False\n",
    "    \n",
    "    # Calculate the sum of digits of the number\n",
    "    digit_sum_num = digit_sum(num)\n",
    "    \n",
    "    # Calculate the sum of digits of its prime factors (excluding 1)\n",
    "    prime_factors_sum = sum(digit_sum(factor) for factor in prime_factors(num))\n",
    "    \n",
    "    # Check if the sums are equal\n",
    "    return digit_sum_num == prime_factors_sum\n",
    "\n",
    "def nthSmithNumber(n):\n",
    "    count = 0\n",
    "    num = 4  # Start from the smallest Smith number\n",
    "    while True:\n",
    "        if is_smith_number(num):\n",
    "            count += 1\n",
    "            if count == n:\n",
    "                return num\n",
    "        num += 1\n",
    "\n",
    "# Test cases\n",
    "print(nthSmithNumber(1))\n",
    "print(nthSmithNumber(2))"
   ]
  },
  {
   "cell_type": "markdown",
   "metadata": {},
   "source": [
    "### Question 12"
   ]
  },
  {
   "cell_type": "code",
   "execution_count": null,
   "metadata": {},
   "outputs": [],
   "source": [
    "import random\n",
    "\n",
    "def playPig():\n",
    "  \"\"\"\n",
    "  This function implements a two-player console-based game of Pig.\n",
    "  \"\"\"\n",
    "\n",
    "  # Player names\n",
    "  player1_name = input(\"Enter Player 1 name: \")\n",
    "  player2_name = input(\"Enter Player 2 name: \")\n",
    "\n",
    "  # Initialize player scores\n",
    "  player1_score = 0\n",
    "  player2_score = 0\n",
    "\n",
    "  # Current player flag\n",
    "  current_player = player1_name\n",
    "\n",
    "  while True:\n",
    "    # Print current player and score\n",
    "    print(f\"\\n** {current_player}'s turn! **  Current Score: {player1_score if current_player == player1_name else player2_score}\")\n",
    "\n",
    "    # Player turn loop\n",
    "    turn_score = 0\n",
    "    while True:\n",
    "      # Roll the dice\n",
    "      roll = random.randint(1, 6)\n",
    "      print(f\"You rolled a {roll}.\")\n",
    "\n",
    "      # Check for rolling a 1\n",
    "      if roll == 1:\n",
    "        print(f\"Uh oh! You rolled a 1. Your turn is over and you lose your turn score.\")\n",
    "        turn_score = 0\n",
    "        break\n",
    "\n",
    "      # Add roll to turn score and ask player to roll again\n",
    "      turn_score += roll\n",
    "      print(f\"Turn score: {turn_score}\")\n",
    "      roll_again = input(\"Roll again? (y/n): \").lower()\n",
    "\n",
    "      # Check if player wants to hold\n",
    "      if roll_again != \"y\":\n",
    "        break\n",
    "\n",
    "    # Update player score based on turn score\n",
    "    if current_player == player1_name:\n",
    "      player1_score += turn_score\n",
    "    else:\n",
    "      player2_score += turn_score\n",
    "\n",
    "    # Check for winner\n",
    "    if player1_score >= 100 or player2_score >= 100:\n",
    "      winner = player1_name if player1_score >= 100 else player2_name\n",
    "      print(f\"\\n** {winner} wins! **\")\n",
    "      break\n",
    "\n",
    "    # Switch player\n",
    "    current_player = player2_name if current_player == player1_name else player1_name\n",
    "\n",
    "  print(f\"\\nFinal Scores: \\n  {player1_name}: {player1_score} \\n  {player2_name}: {player2_score}\")\n",
    "\n",
    "# Start the game\n",
    "playPig()"
   ]
  },
  {
   "cell_type": "code",
   "execution_count": null,
   "metadata": {},
   "outputs": [],
   "source": []
  }
 ],
 "metadata": {
  "kernelspec": {
   "display_name": "Python 3",
   "language": "python",
   "name": "python3"
  },
  "language_info": {
   "codemirror_mode": {
    "name": "ipython",
    "version": 3
   },
   "file_extension": ".py",
   "mimetype": "text/x-python",
   "name": "python",
   "nbconvert_exporter": "python",
   "pygments_lexer": "ipython3",
   "version": "3.8.3"
  }
 },
 "nbformat": 4,
 "nbformat_minor": 4
}
